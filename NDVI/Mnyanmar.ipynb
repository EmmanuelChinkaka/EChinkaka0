{
  "nbformat": 4,
  "nbformat_minor": 0,
  "metadata": {
    "colab": {
      "provenance": [],
      "authorship_tag": "ABX9TyPpLhZtgHF+8wIx2QM+/xul",
      "include_colab_link": true
    },
    "kernelspec": {
      "name": "python3",
      "display_name": "Python 3"
    },
    "language_info": {
      "name": "python"
    }
  },
  "cells": [
    {
      "cell_type": "markdown",
      "metadata": {
        "id": "view-in-github",
        "colab_type": "text"
      },
      "source": [
        "<a href=\"https://colab.research.google.com/github/EmmanuelChinkaka/PUS2022_EChinkaka0/blob/main/NDVI/Mnyanmar.ipynb\" target=\"_parent\"><img src=\"https://colab.research.google.com/assets/colab-badge.svg\" alt=\"Open In Colab\"/></a>"
      ]
    },
    {
      "cell_type": "code",
      "execution_count": null,
      "metadata": {
        "id": "6C9hdVIHi00z"
      },
      "outputs": [],
      "source": [
        "//Location for bounds: Point \n",
        "var mine = ee.Geometry.Point(98.54667827723028,25.854050360113273);\n",
        "\n",
        "//Add point to the map\n",
        "Map.addLayer(mine);\n",
        "\n",
        "//Dates of interest\n",
        "\n",
        "var startdate = ee.Date('2015-01-01');\n",
        "var enddate = ee.Date('2020-12-31');\n",
        "\n",
        "//Create images collection\n",
        "var WSH_D = ee.ImageCollection(\"LANDSAT/LC08/C02/T1\")\n",
        ".filterBounds(mine)\n",
        ".filterDate(startdate,enddate)\n",
        ".sort('CLOUD_COVER', false);\n",
        "\n",
        "//Get number of images\n",
        "var count = WSH_D.size();\n",
        "print(\"Number of Images collected\", count);\n",
        "\n",
        "//Sort by cloud cover intensity in the images\n",
        "var best = ee.Image(WSH_D.sort('CLOUD_COVER').first());\n",
        "print('Least cloud image', best)\n",
        "\n",
        "//Get metadata\n",
        "var date = best.get('DATE_ACQUIRED');\n",
        "print('Image date taken', date);\n",
        "\n",
        "// Define the visualization parameters.\n",
        "var vizParams = {\n",
        "  bands: ['B5', 'B4', 'B3'],\n",
        "  min: 500,\n",
        "  max: 15000,\n",
        "  gamma: [0.95, 1.1, 1]\n",
        "};\n",
        "\n",
        "// Center the map and display the image.\n",
        "\n",
        "Map.addLayer(best, vizParams, 'FCC');\n",
        "\n",
        "\n",
        "//*************NDVI Calculation*****************//\n",
        "\n",
        "//Creatimg band variables\n",
        "var B4_RED = best.select('B4');\n",
        "var B5_NIR = best.select('B5');\n",
        "\n",
        "//GEE in-built NDVI Calculation\n",
        "var ndvi = B5_NIR.subtract(B4_RED).divide(B5_NIR.add(B4_RED));\n",
        "\n",
        "//Dispalying NDVI in GEE\n",
        "var ndvi_palette = 'FFFFFF, CE7E45, DF923D, FCD163, 998718, 74A901, 66A000, 529400,' +\n",
        "'3E8601, 207401, 056201, 004C00, 023C00, 023801, 012E01, 011301';\n",
        "\n",
        "Map.addLayer(ndvi, {min: -0.1, max: 1.0, palette: ndvi_palette}, 'NDVI');\n",
        "\n",
        "\n"
      ]
    }
  ]
}